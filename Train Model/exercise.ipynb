{
 "cells": [
  {
   "cell_type": "markdown",
   "metadata": {},
   "source": [
    "### **1. What Linear Regression training algorithm can you use if you have a training set with millions of features?**\n",
    "##### Gradient Descent: Vẫn đề là nếu có local minnimum thì khó thoát ra được. Nhưng vì hàm MSE(theta) là hàm lồi (Chọn bất kì 1 đoạn thẳng chúng sẽ không bao giờ cắt qua đường cong ==> không ccó local minimum. GD tốt cho mô hình hồi quy quyến tính\n",
    "(The problem is that if there is local minnimum, it is difficult to exit. But since MSE(theta) function is convex function (Choose any line segment they will never cross the curve ==> there is no local minimum GD is good for charming regression model)\n",
    "+ 1.1 Batch gradient descent: global minimum +- epsilon.Tùy thuộc vào épilon mà thuật toán nhanh hay chậm (Depending on epsilon and the algorithm is fast or slow)\n",
    "    >+ GD . batch problem: sử dụng toàn bộ tập huấn luyện để tính toán gradient at every steps (use the entire training set to compute the gradient at every steps) => slow if training set is large\n",
    "+ 1.2 stochastic gradient descent: \n",
    "    >+ Chỉ chọn một phiên bản ngẫu nhiêu trong tập huấn luyện ở mỗi bước và tính toán ggiá trị gradient dựa trên một phiên bản duy nhất đó. => Thuật toán trở nên nhanh hơn vì có ít thao tác với dữ liệu hơn ở mỗi lần lặp. (Pick only one random version of the training set at each step and compute the gradient value based on that single instance. => The algorithm becomes faster because there are fewer data manipulations at each iteration.)\n",
    "    >+ Kết quả thu được chỉ ở mức tối thiểu không bằng Batch gradient descent nhưng lại có thể tránh được local minimum nếu có.(The results obtained are only at a minimum not equal to Batch gradient descent, but the local minimum can be avoided if at all.)\n",
    "+ 1.3 Mini-batch gradient descent: \n",
    "    >+ Thay vì tính toán gradient descent trên tập huấn luyện đầy đủ (GD), hoặc trên 1 phiên bản (SGD), Mini_Batch GD tính toán gradient descent trên các tập hợp ngẫu nhiên gọi là các Mini_Batch (Instead of computing gradient descent on the full training set (GD), or on one instance (SGD), Mini_Batch GD computes gradient descent over random sets called Mini_Batchs.)\n",
    "    >+ Result is better SGD but but it's hard to pass the local minimum (nhưng khó vượt qua được local minimum).\n",
    "\n",
    ">+ **SGD và MBGD sẽ hoạt động tốt nhất vì cả hai đều không cần tải toàn bộ tập dữ liệu vào bộ nhớ để thực hiện 1 bước giảm độ dốc. Hàng loạt sẽ ổn với cảnh báo rằng bạn có đủ bộ nhớ để tải tất cả dữ liệu.**"
   ]
  },
  {
   "cell_type": "markdown",
   "metadata": {},
   "source": [
    "### **2. Suppose the features in your training set have very different scales: what algorithms might suffer from this, and how? What can you do about it?**\n",
    "+ Khi làm việc với tập dữ liệu. Chúng ta phải đối diện với vấn đề là giá trị giữa các đặc trưng ( feature) cách nhau quá xa. Điều này khiến cho việc chạy vòng lặp Gradient descent trở nên khó khăn hơn. Vì thế có một thủ thuật gọi là feature scaling giúp cho giá trị các feature gần nhau hơn và điều này khiến cho việc chạy Gradient descent được nhanh hơn\n",
    "+ Phương pháp **Normal Equation** không yêu cầu chuẩn hóa các tính năng, vì vậy nó vẫn không bị ảnh hưởng bởi các tính năng trong tập huấn luyện có tỷ lệ rất khác nhau.\n"
   ]
  },
  {
   "cell_type": "markdown",
   "metadata": {},
   "source": [
    "### **3. Can Gradient Descent get stuck in a local minimum when training a Logistic Regression model?**\n",
    ">+ Ở hồi quy tuyến tính mô hình Gradient Descent là một hàm lồi. Cho nên không gặp vấn đề với các local minimum ( vì không có local minimum mà chỉ có duy nhât global minimum ở đáy thôi) - In linear regression, the Gradient Descent model is a convex function. So there's no problem with local minimums (because there's no local minimum, only a global minimum at the bottom)."
   ]
  },
  {
   "cell_type": "markdown",
   "metadata": {},
   "source": [
    "### **4. Do all Gradient Descent algorithms lead to the same model provided you let them run long enough?**\n",
    ">+ No. The issue is that stochastic gradient descent and mini-batch gradient descent have randomness built into them. This means that they can find their way to nearby the global optimum, but they generally don't converge. One way to help them converge is to gradually reduce the learning rate hyperparameter."
   ]
  },
  {
   "cell_type": "markdown",
   "metadata": {},
   "source": [
    "### **5. Suppose you use Batch Gradient Descent and you plot the validation error at every epoch. If you notice that the validation error consistently goes up, what is likely going on? How can you fix this?**\n",
    ">+ Nếu lỗi xác thực liên tục tăng lên sau mỗi kỷ nguyên, thì một khả năng là tỷ lệ học tập quá cao và thuật toán đang phân kỳ. Nếu lỗi đào tạo cũng tăng lên, thì đây rõ ràng là vấn đề và bạn nên giảm tỷ lệ học.\n",
    ">+ Tuy nhiên, nếu lỗi đào tạo không tăng lên, thì mô hình của bạn dang bi overfitting và bạn nên ngừng đào tạo và áp dụng các biện pháp khắc phục phổ biến cho việc ovefiting"
   ]
  },
  {
   "cell_type": "markdown",
   "metadata": {},
   "source": [
    "### 6. Is it a good idea to stop Mini-batch Gradient Descent immediately when the validation error goes up?\n",
    "+ Both Mini-batch and Stochastic gradient descent are not guarenteed to minimize the cost function after each step because the both have a degree of randomness built into them\n",
    "+ Mini-bath randomly chooses which training examples to perform gradient descent on while Stochastic randomly chooses a single example.\n",
    "+ A better option is to save the model at regular intervals. When the model has not improved for a long time you can revert to the saved models.\n",
    ">+ Cả hai bước giảm dần theo lô nhỏ và giảm độ dốc Stochastic đều không được đảm bảo để giảm thiểu hàm chi phí sau mỗi bước vì cả hai đều có mức độ ngẫu nhiên được tích hợp sẵn. Mini-bath chọn ngẫu nhiên các ví dụ đào tạo để thực hiện giảm độ dốc trong khi Stochastic chọn ngẫu nhiên một ví dụ duy nhất. Một lựa chọn tốt hơn là lưu mô hình theo các khoảng thời gian đều đặn. Khi mô hình không được cải thiện trong một thời gian dài, bạn có thể hoàn nguyên về các mô hình đã lưu."
   ]
  },
  {
   "cell_type": "markdown",
   "metadata": {},
   "source": [
    "### **7. Which Gradient Descent algorithm (among those we discussed) will reach the vicinity of the optimal solution the fastest? Which will actually converge? How can you make the others converge as well?**\n",
    "+ Stochastic gradient descent là nhanh nhất để hội tụ vì nó chỉ xem xét một ví dụ đào tạo tại một thời điểm.\n",
    "+ Batch gradient descent được đảm bảo hội tụ với tốc độ học đủ nhỏ nhưng sẽ mất nhiều thời gian\n",
    "+ Vì SGD và MBGD đều là ngẫu nhiên, một chiến lược bạn có thể sử dụng để giúp chúng hội tụ là giảm tốc độ học tập theo thời gian để nó thực hiện các bước giảm dần độ dốc ngày càng nhỏ khi nó đạt đến mức tối thiểu toàn cầu."
   ]
  },
  {
   "cell_type": "markdown",
   "metadata": {},
   "source": [
    "### **8. Giả sử bạn đang sử dụng Polynomial Regression. Bạn vẽ các đường cong học tập và bạn nhận thấy rằng có một khoảng cách lớn giữa lỗi đào tạo và lỗi xác nhận. Điều gì đang xảy ra? Ba cách để giải quyết vấn đề này là gì?**\n",
    "\n",
    ">+ **Answer:** Khi bạn vẽ các đường cong học tập và nhận thấy có một khoảng cách lớn giữa lỗi đào tạo và lỗi xác thực, đó là đặc điểm của mô hình overfitting. \"Khoảng trống\" tồn tại đơn giản vì lỗi đào tạo thấp hơn lỗi xác nhận. Một cách để phát triển mô hình overfitting là cung cấp thêm dữ liệu đào tạo. Một chiến thuật khác là giảm độ phức tạp của mô hình. Bạn cũng có thể giảm số lượng tính năng trong dữ liệu của mình. Một điều cuối cùng cần thử là thêm chính quy hóa vào mô hình của bạn. L2 (Ridge Regression) hoặc L1 (Lasso) là những lựa chọn tốt.\n",
    ">+ Nếu mô hình hoạt động tốt trên tập dữ liệu huấn luyện nhưng lại kém trên tập dữ liệu xác thực =>> Overfitting (If the model performs well on the training data set but poorly on the validation dataset =>> Overfitting)\n",
    ">+ Nếu mô hình kém trên cả 2 => Underfitting\n",
    ">+ If model is underfitting training data, adding more trainig examples will not help. You need to use a more complex model or come up eith better features.\n"
   ]
  },
  {
   "cell_type": "markdown",
   "metadata": {},
   "source": [
    "### **9. Suppose you are using Ridge Regression and you notice that the training error and the validation error are almost equal and fairly high. Would you say that the model suffers from high bias or high variance? Should you increase the regularization hyperparameter α or reduce it?**\n",
    "+ When the training error and validation error are close to each other and high that means your model is underfitting (i.e. it has high bias). You should try to reduce the regularization hyperparameter."
   ]
  },
  {
   "cell_type": "markdown",
   "metadata": {},
   "source": [
    "### **10. Why would you want to use: Ridge Regression instead of plain Linear Regression (i.e., without any regularization)? or Lasso instead of Ridge Regression or Elastic Net instead of Lasso?**\n",
    "+ Ridge Regression tốt nhưng nếu dữ liệu chỉ có một số tính năng hiệu quả thì nên chọn Lasso hoặc Elastic vì chúng có xu hướng giảm trọng số của các tính năng vô dụng. (Ridge Regression is good but if the data has only some effective features then Lasso or Elastic should be chosen as they tend to reduce the weight of useless features.)\n",
    "+ Ridge regression instead of Linear Regression?\n",
    "Use Ridge regression when your model is overfitting the training set. If you think only several features in your training set are useful, go with lasso or elastic net.\n",
    "+  Lasso thay vì hồi quy Ridge?\n",
    "Lasso thực hiện lựa chọn tính năng tự động bằng cách giảm trọng lượng của các tính năng quan trọng nhất. Cụ thể, hồi quy Lasso sử dụng hình phạt l1 có xu hướng đẩy trọng số xuống chính xác bằng không. Điều này dẫn đến các mô hình thưa thớt, trong đó tất cả các trọng số đều bằng 0 ngoại trừ các trọng số quan trọng nhất. Đây là một cách để thực hiện tự động lựa chọn tính năng, điều này rất tốt nếu bạn nghi ngờ rằng chỉ có một số tính năng thực sự quan trọng. Khi bạn không chắc chắn, bạn nên thích hồi quy Ridge hơn.\n",
    "+ Elastic Net thay vì Lasso? Elastic Net được ưu tiên hơn Lasso vì Lasso có thể hoạt động thất thường khi số lượng tính năng nhiều hơn số lượng trường hợp huấn luyện hoặc khi một số tính năng có tương quan chặt chẽ.\n",
    "\n"
   ]
  },
  {
   "cell_type": "markdown",
   "metadata": {},
   "source": [
    "### **11. Suppose you want to classify pictures as outdoor/indoor and daytime/nighttime. Should you implement two Logistic Regression classifiers or one Softmax Regression classifier?**\n",
    "+ Use softmax Regression Because this is a multi-class classification problem - Not a multi-output problem\n",
    "+ Softmax regression does not handle multiple output classes (i.e. [indoor, daytime]). So you'll need to use two logistic regression classsifiers"
   ]
  },
  {
   "cell_type": "markdown",
   "metadata": {},
   "source": [
    "## **12. Implement Batch Gradient Descent with early stopping for Softmax Regression (without using Scikit-Learn)**"
   ]
  },
  {
   "cell_type": "code",
   "execution_count": 43,
   "metadata": {},
   "outputs": [
    {
     "data": {
      "text/plain": [
       "['data',\n",
       " 'target',\n",
       " 'frame',\n",
       " 'target_names',\n",
       " 'DESCR',\n",
       " 'feature_names',\n",
       " 'filename',\n",
       " 'data_module']"
      ]
     },
     "execution_count": 43,
     "metadata": {},
     "output_type": "execute_result"
    }
   ],
   "source": [
    "from sklearn import datasets\n",
    "import numpy as np\n",
    "\n",
    "iris = datasets.load_iris()\n",
    "list(iris.keys())"
   ]
  },
  {
   "cell_type": "code",
   "execution_count": 44,
   "metadata": {},
   "outputs": [
    {
     "data": {
      "text/plain": [
       "array([0, 0, 0, 0, 0, 0, 0, 0, 0, 0, 0, 0, 0, 0, 0, 0, 0, 0, 0, 0, 0, 0,\n",
       "       0, 0, 0, 0, 0, 0, 0, 0, 0, 0, 0, 0, 0, 0, 0, 0, 0, 0, 0, 0, 0, 0,\n",
       "       0, 0, 0, 0, 0, 0, 1, 1, 1, 1, 1, 1, 1, 1, 1, 1, 1, 1, 1, 1, 1, 1,\n",
       "       1, 1, 1, 1, 1, 1, 1, 1, 1, 1, 1, 1, 1, 1, 1, 1, 1, 1, 1, 1, 1, 1,\n",
       "       1, 1, 1, 1, 1, 1, 1, 1, 1, 1, 1, 1, 2, 2, 2, 2, 2, 2, 2, 2, 2, 2,\n",
       "       2, 2, 2, 2, 2, 2, 2, 2, 2, 2, 2, 2, 2, 2, 2, 2, 2, 2, 2, 2, 2, 2,\n",
       "       2, 2, 2, 2, 2, 2, 2, 2, 2, 2, 2, 2, 2, 2, 2, 2, 2, 2])"
      ]
     },
     "execution_count": 44,
     "metadata": {},
     "output_type": "execute_result"
    }
   ],
   "source": [
    "iris[\"target\"] # It is multinomial classification"
   ]
  },
  {
   "cell_type": "code",
   "execution_count": 45,
   "metadata": {},
   "outputs": [
    {
     "data": {
      "text/plain": [
       "['sepal length (cm)',\n",
       " 'sepal width (cm)',\n",
       " 'petal length (cm)',\n",
       " 'petal width (cm)']"
      ]
     },
     "execution_count": 45,
     "metadata": {},
     "output_type": "execute_result"
    }
   ],
   "source": [
    "iris[\"feature_names\"]"
   ]
  },
  {
   "cell_type": "code",
   "execution_count": 46,
   "metadata": {},
   "outputs": [],
   "source": [
    "X = iris[\"data\"][:, (2, 3)]  # petal length, petal width\n",
    "y = iris[\"target\"]"
   ]
  },
  {
   "cell_type": "code",
   "execution_count": 47,
   "metadata": {},
   "outputs": [
    {
     "data": {
      "text/plain": [
       "array([[1. , 1.4, 0.2],\n",
       "       [1. , 1.4, 0.2],\n",
       "       [1. , 1.3, 0.2]])"
      ]
     },
     "execution_count": 47,
     "metadata": {},
     "output_type": "execute_result"
    }
   ],
   "source": [
    "X_with_bias = np.c_[np.ones([len(X), 1]), X]\n",
    "X_with_bias[:3]"
   ]
  },
  {
   "cell_type": "code",
   "execution_count": 48,
   "metadata": {},
   "outputs": [],
   "source": [
    "np.random.seed(2042)"
   ]
  },
  {
   "cell_type": "code",
   "execution_count": 49,
   "metadata": {},
   "outputs": [],
   "source": [
    "# Train_test_split\n",
    "test_ratio = 0.2\n",
    "validation_ratio = 0.2\n",
    "total_size = len(X_with_bias)\n",
    "\n",
    "test_size = int(total_size * test_ratio)\n",
    "validation_size = int(total_size * validation_ratio)\n",
    "train_size = total_size - test_size - validation_size\n",
    "\n",
    "rnd_indices = np.random.permutation(total_size)\n",
    "\n",
    "X_train = X_with_bias[rnd_indices[:train_size]]\n",
    "y_train = y[rnd_indices[:train_size]]\n",
    "X_valid = X_with_bias[rnd_indices[train_size:-test_size]]\n",
    "y_valid = y[rnd_indices[train_size:-test_size]]\n",
    "X_test = X_with_bias[rnd_indices[-test_size:]]\n",
    "y_test = y[rnd_indices[-test_size:]]\n"
   ]
  },
  {
   "cell_type": "markdown",
   "metadata": {},
   "source": [
    "+ Các mục tiêu hiện là chỉ số lớp (0, 1 hoặc 2), nhưng chúng ta cần xác suất lớp mục tiêu để đào tạo mô hình Hồi quy Softmax.\n",
    "+ Hãy viết một hàm nhỏ để chuyển đổi vectơ của các chỉ số lớp thành một ma trận chứa một vectơ một hot cho mỗi trường hợp\n",
    "+ [1,0,1,2] - > [[0,1,0], [1,0,0], [0,1,0], [0,0,1]]"
   ]
  },
  {
   "cell_type": "code",
   "execution_count": 50,
   "metadata": {},
   "outputs": [],
   "source": [
    "def to_one_hot(y):\n",
    "    n_classes = y.max() + 1\n",
    "    m = len(y)\n",
    "    y_one_hot = np.zeros((m,n_classes)) # Tao mot ma tran co m x n_classes gia tri  = 0\n",
    "    y_one_hot[np.arange(m), y] = 1\n",
    "    return y_one_hot\n"
   ]
  },
  {
   "cell_type": "code",
   "execution_count": 51,
   "metadata": {},
   "outputs": [
    {
     "data": {
      "text/plain": [
       "array([0, 1, 2, 1, 1, 0, 1, 1, 1, 0])"
      ]
     },
     "execution_count": 51,
     "metadata": {},
     "output_type": "execute_result"
    }
   ],
   "source": [
    "y_train[:10]"
   ]
  },
  {
   "cell_type": "code",
   "execution_count": 52,
   "metadata": {},
   "outputs": [
    {
     "data": {
      "text/plain": [
       "array([[1., 0., 0.],\n",
       "       [0., 1., 0.],\n",
       "       [0., 0., 1.],\n",
       "       [0., 1., 0.],\n",
       "       [0., 1., 0.],\n",
       "       [1., 0., 0.],\n",
       "       [0., 1., 0.],\n",
       "       [0., 1., 0.],\n",
       "       [0., 1., 0.],\n",
       "       [1., 0., 0.]])"
      ]
     },
     "execution_count": 52,
     "metadata": {},
     "output_type": "execute_result"
    }
   ],
   "source": [
    "to_one_hot(y_train[:10])"
   ]
  },
  {
   "cell_type": "code",
   "execution_count": 54,
   "metadata": {},
   "outputs": [],
   "source": [
    "Y_train_one_hot = to_one_hot(y_train)\n",
    "Y_valid_one_hot = to_one_hot(y_valid)\n",
    "Y_test_one_hot = to_one_hot(y_test)"
   ]
  },
  {
   "cell_type": "markdown",
   "metadata": {},
   "source": [
    "Now let's implement the Softmax function. Recall that it is defined by the following equation:\n",
    "\n",
    "$\\sigma\\left(\\mathbf{s}(\\mathbf{x})\\right)_k = \\dfrac{\\exp\\left(s_k(\\mathbf{x})\\right)}{\\sum\\limits_{j=1}^{K}{\\exp\\left(s_j(\\mathbf{x})\\right)}}$"
   ]
  },
  {
   "cell_type": "code",
   "execution_count": 56,
   "metadata": {},
   "outputs": [],
   "source": [
    "def softmax(logits):\n",
    "    exps = np.exp(logits)\n",
    "    exp_sums = np.sum(exps, axis=1, keepdims=True)\n",
    "    return exps/exp_sums"
   ]
  },
  {
   "cell_type": "code",
   "execution_count": 66,
   "metadata": {},
   "outputs": [],
   "source": [
    "n_inputs = X_train.shape[1] # == 3 (2 features plus the bias term)\n",
    "n_outputs = len(np.unique(y_train))"
   ]
  },
  {
   "cell_type": "code",
   "execution_count": 71,
   "metadata": {},
   "outputs": [
    {
     "name": "stdout",
     "output_type": "stream",
     "text": [
      "0 3.207870888733737\n",
      "500 0.9102655715933011\n",
      "1000 0.7245981143541181\n",
      "1500 0.6195736452392622\n",
      "2000 0.5544764557510471\n",
      "2500 0.5101215223249341\n",
      "3000 0.4775255492382668\n",
      "3500 0.4521715148580381\n",
      "4000 0.4315976459646628\n",
      "4500 0.41436168630147824\n",
      "5000 0.3995652334938366\n",
      "5500 0.38661917369282717\n",
      "6000 0.37512021585913286\n",
      "6500 0.3647820739246793\n",
      "7000 0.35539515332865773\n",
      "7500 0.3468018945680141\n",
      "8000 0.3388811161978051\n",
      "8500 0.3315377410307348\n",
      "9000 0.3246958576155642\n",
      "9500 0.31829391347903546\n",
      "10000 0.3122813091198972\n"
     ]
    }
   ],
   "source": [
    "eta = 0.01\n",
    "n_iterators = 10001\n",
    "m = len(X_train)\n",
    "epsilon = 1e-7\n",
    "\n",
    "Theta = np.random.randn(n_inputs, n_outputs)\n",
    "\n",
    "for iteration in range(n_iterators):\n",
    "    logits = X_train.dot(Theta)\n",
    "    Y_proba = softmax(logits)\n",
    "    if iteration % 500 == 0:\n",
    "        loss = -np.mean(np.sum(Y_train_one_hot * np.log(Y_proba + epsilon), axis=1))\n",
    "        print(iteration, loss)\n",
    "    error = Y_proba - Y_train_one_hot\n",
    "    gradients = 1/m * X_train.T.dot(error)\n",
    "    Theta = Theta - eta * gradients"
   ]
  },
  {
   "cell_type": "markdown",
   "metadata": {},
   "source": [
    "+ Make predictions for the validation set and check the accuracy score"
   ]
  },
  {
   "cell_type": "code",
   "execution_count": 72,
   "metadata": {},
   "outputs": [
    {
     "data": {
      "text/plain": [
       "array([[ 3.77808488, -0.93784458, -4.49782649],\n",
       "       [-0.72657914,  0.61516885,  0.31615831],\n",
       "       [-1.57146073, -0.12495489,  3.00451718]])"
      ]
     },
     "execution_count": 72,
     "metadata": {},
     "output_type": "execute_result"
    }
   ],
   "source": [
    "Theta"
   ]
  },
  {
   "cell_type": "code",
   "execution_count": 73,
   "metadata": {},
   "outputs": [
    {
     "data": {
      "text/plain": [
       "0.9666666666666667"
      ]
     },
     "execution_count": 73,
     "metadata": {},
     "output_type": "execute_result"
    }
   ],
   "source": [
    "logits = X_valid.dot(Theta)\n",
    "Y_proba = softmax(logits)\n",
    "y_predict = np.argmax(Y_proba, axis=1)\n",
    "\n",
    "accuracy_score = np.mean(y_predict == y_valid)\n",
    "accuracy_score"
   ]
  },
  {
   "cell_type": "markdown",
   "metadata": {},
   "source": [
    "+ Try incresing eta - learning rate"
   ]
  },
  {
   "cell_type": "code",
   "execution_count": 75,
   "metadata": {},
   "outputs": [
    {
     "name": "stdout",
     "output_type": "stream",
     "text": [
      "0 3.499703253536928\n",
      "500 0.5734682734831308\n",
      "1000 0.529126622350338\n",
      "1500 0.5116108165765126\n",
      "2000 0.5025890477442458\n",
      "2500 0.49742818248808907\n",
      "3000 0.49431546689203937\n",
      "3500 0.49237806618330915\n",
      "4000 0.4911469378188872\n",
      "4500 0.4903531442866595\n",
      "5000 0.4898358572772569\n"
     ]
    }
   ],
   "source": [
    "eta = 0.05\n",
    "n_iterations = 5001\n",
    "m = len(X_train)\n",
    "epsilon = 1e-7\n",
    "alpha = 0.1  # regularization hyperparameter\n",
    "\n",
    "Theta = np.random.randn(n_inputs, n_outputs)\n",
    "\n",
    "for iteration in range(n_iterations):\n",
    "    logits = X_train.dot(Theta)\n",
    "    Y_proba = softmax(logits)\n",
    "    if iteration % 500 == 0:\n",
    "        xentropy_loss = -np.mean(np.sum(Y_train_one_hot * np.log(Y_proba + epsilon), axis=1))\n",
    "        l2_loss = 1/2 * np.sum(np.square(Theta[1:]))\n",
    "        loss = xentropy_loss + alpha * l2_loss\n",
    "        print(iteration, loss)\n",
    "    error = Y_proba - Y_train_one_hot\n",
    "    gradients = 1/m * X_train.T.dot(error) + np.r_[np.zeros([1, n_outputs]), alpha * Theta[1:]]\n",
    "    Theta = Theta - eta * gradients"
   ]
  },
  {
   "cell_type": "code",
   "execution_count": 76,
   "metadata": {},
   "outputs": [
    {
     "data": {
      "text/plain": [
       "1.0"
      ]
     },
     "execution_count": 76,
     "metadata": {},
     "output_type": "execute_result"
    }
   ],
   "source": [
    "logits = X_valid.dot(Theta)\n",
    "Y_proba = softmax(logits)\n",
    "y_predict = np.argmax(Y_proba, axis=1)\n",
    "\n",
    "accuracy_score = np.mean(y_predict == y_valid)\n",
    "accuracy_score"
   ]
  },
  {
   "cell_type": "markdown",
   "metadata": {},
   "source": [
    "+ ADD EARLY STOPPING"
   ]
  },
  {
   "cell_type": "code",
   "execution_count": null,
   "metadata": {},
   "outputs": [],
   "source": []
  }
 ],
 "metadata": {
  "kernelspec": {
   "display_name": "Python 3.8.10 ('tuanenv': venv)",
   "language": "python",
   "name": "python3"
  },
  "language_info": {
   "codemirror_mode": {
    "name": "ipython",
    "version": 3
   },
   "file_extension": ".py",
   "mimetype": "text/x-python",
   "name": "python",
   "nbconvert_exporter": "python",
   "pygments_lexer": "ipython3",
   "version": "3.8.10"
  },
  "orig_nbformat": 4,
  "vscode": {
   "interpreter": {
    "hash": "14f373a780c3e7357575556c76745c93ddecb4f48af6f5f128656f7f3c679194"
   }
  }
 },
 "nbformat": 4,
 "nbformat_minor": 2
}

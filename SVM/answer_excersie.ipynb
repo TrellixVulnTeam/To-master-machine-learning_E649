{
 "cells": [
  {
   "cell_type": "markdown",
   "metadata": {},
   "source": [
    "**1. What is the fundamental idea behind Support Vector Machines?**\"\n",
    "+ SVM or Support Vector Machine is a linear model for classification and regression problems\n",
    "+ It can solve linear and non-linear problems and work well for many practical problems. The idea of SVM is simple: **The algorithm creates a line or a hyperplane which separates the data into classes**"
   ]
  },
  {
   "cell_type": "markdown",
   "metadata": {},
   "source": [
    "**2. What is a support vector?**\n",
    "+ Support vectors are the data points that lie closest. to the decision surface (or hyperplane) \n",
    "+ They are the data points most difficult to classify.\n",
    "+ They have direct bearing on the optimum location."
   ]
  },
  {
   "cell_type": "markdown",
   "metadata": {},
   "source": [
    "**3. Why is it important to scale the inputs when using SVMs?**\n",
    "+ Because Support Vector Machine (SVM) optimization occurs by minimizing the decision vector w, the optimal hyperplane is influenced by the scale of the input features and it's therefore recommended that data be standardized (mean 0, var 1) prior to SVM model training"
   ]
  },
  {
   "cell_type": "markdown",
   "metadata": {},
   "source": []
  }
 ],
 "metadata": {
  "language_info": {
   "name": "python"
  },
  "orig_nbformat": 4
 },
 "nbformat": 4,
 "nbformat_minor": 2
}

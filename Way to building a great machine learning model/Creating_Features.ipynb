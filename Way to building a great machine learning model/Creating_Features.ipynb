{
 "cells": [
  {
   "cell_type": "code",
   "execution_count": null,
   "metadata": {},
   "outputs": [],
   "source": []
  }
 ],
 "metadata": {
  "kernelspec": {
   "display_name": "Python 3.9.0 64-bit ('3.9.0')",
   "language": "python",
   "name": "python3"
  },
  "language_info": {
   "name": "python",
   "version": "3.9.0"
  },
  "orig_nbformat": 4,
  "vscode": {
   "interpreter": {
    "hash": "198d770ee2a51adc163a9a36174d264d28801485a78739e3d6ca3ffcd9e1e547"
   }
  }
 },
 "nbformat": 4,
 "nbformat_minor": 2
}

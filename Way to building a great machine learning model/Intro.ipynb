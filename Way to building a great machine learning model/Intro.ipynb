{
 "cells": [
  {
   "cell_type": "markdown",
   "metadata": {},
   "source": [
    "### **I'll learn about one of the most importance steps on the way to building a great machine learning**\n",
    "\n",
    ">+ determine which features are the most important with mutual information\n",
    ">+ invent new features in several real-world problem domains\n",
    ">+ encode high-cardinality categoricals with a target encoding\n",
    ">+ create segmentation features with k-means clustering\n",
    ">+ decompose a dataset's variation into features with principal component analysis (PCA)\n",
    "### **A Guiding Principle of Feature Engineering**\n",
    ">+ For a feature to be useful, it must have a relationship to the target that your model is able to learn. \n"
   ]
  }
 ],
 "metadata": {
  "kernelspec": {
   "display_name": "Python 3.9.0 64-bit ('3.9.0')",
   "language": "python",
   "name": "python3"
  },
  "language_info": {
   "name": "python",
   "version": "3.9.0"
  },
  "orig_nbformat": 4,
  "vscode": {
   "interpreter": {
    "hash": "198d770ee2a51adc163a9a36174d264d28801485a78739e3d6ca3ffcd9e1e547"
   }
  }
 },
 "nbformat": 4,
 "nbformat_minor": 2
}

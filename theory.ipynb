{
 "cells": [
  {
   "cell_type": "markdown",
   "metadata": {},
   "source": [
    "# Important supervised learning algorithms :\n",
    "• k-Nearest Neighbors\n",
    "\n",
    "• Linear Regression\n",
    "\n",
    "• Logistic Regression\n",
    "\n",
    "• Support Vector Machines (SVMs)\n",
    "\n",
    "• Decision Trees and Random Forests\n",
    "\n",
    "• Neural networks"
   ]
  },
  {
   "cell_type": "markdown",
   "metadata": {},
   "source": [
    "## important unsupervised learning algorithms\n",
    "+ Clustering \n",
    "    + k-Means \n",
    "    + Hierarchical Cluster Analysis (HCA) \n",
    "    + Expectation Maximization \n",
    "+ Visualization and dimensionality reduction \n",
    "    + Principal Component Analysis (PCA) \n",
    "    + Kernel PCA \n",
    "    + Locally-Linear Embedding (LLE) \n",
    "    + t-distributed Stochastic Neighbor Embedding (t-SNE) \n",
    "+ Association rule learning \n",
    "    + Apriori \n",
    "    + Eclat "
   ]
  },
  {
   "cell_type": "markdown",
   "metadata": {},
   "source": [
    "### Problem with data in machine learning\n",
    "+ **Sampling Bias Data:**\n",
    "   > + Thiên lệch trong chọn mẫu là một dạng thiên lệch tạo ra bởi việc chọn dữ liệu không ngẫu nhiên để phân tích thống kê.\n",
    "   > + Theo cách hiểu ủa tôi đó là việc dữ lieẹu quá thiên về một hưosng nào đó. Tức dữ liệu không đuwojc khái quát hoá tổng thể để có thể học\n",
    "+ **Poor-Quality Data:**\n",
    "   > + Chất lượng dữ liệu (Data Quality) cho biết mức độ đáng tin cậy của một tập dữ liệu nhất định.\n",
    "   > + Các chất lượng của dữ liệu sẽ ảnh hưởng đến hiệu quả của các model máy học để đưa ra quyết định chính xác về các dự đoán \n",
    "+ **Irrelevant Features (Các tính năng không liên quan):**\n",
    "   > + Hệ thống của bạn sẽ chỉ có thể học nếu dữ liệu đào tạo chứa đủ các tính năng phù hợp và không có quá nhiều tính năng không liên quan\n",
    "   + **Solution:**\n",
    "         > +  Feature selection: selecting the most useful features to train on among existing features \n",
    "                                 (chọn các tính năng hữu ích nhất để đào tạo trong số các tính năng hiện có)\n",
    "         > + Feature extraction: combining existing features to produce a more useful one (as we saw earlier, dimensionality reduction algorithms can help) - kết hợp các tính năng hiện có để tạo ra một tính năng hữu ích hơn (như chúng ta đã thấy trước đó, các thuật toán giảm kích thước có thể giúp ích\n",
    "         > + Creating new features by gathering new data."
   ]
  },
  {
   "cell_type": "markdown",
   "metadata": {},
   "source": [
    "## **Overfitting and Underfitting Training data**\n",
    "1. **Overfitting**\n",
    "   \n",
    "2. **Underfitting**"
   ]
  },
  {
   "cell_type": "markdown",
   "metadata": {},
   "source": [
    "### **Khi nhận 1 Project về Machine learning khi đi làm:**\n",
    "  > + Xếp của bạn yêu cầu như thế nào\n",
    "  > + Mục đích xây dựng mô hình là gì\n",
    "  > + công ty mong đợi và sư dụng nó như thế nào\n",
    "> Điều này rất quan trọng vì nó sẽ xác định cách bạn đóng khung vấn đề, bạn sẽ chọn thuật toán nào, bạn sẽ sử dụng thước đo hiệu suất nào để đánh giá mô hình của bạn và bạn nên bỏ ra bao nhiêu công sức để chỉnh sửa nó."
   ]
  }
 ],
 "metadata": {
  "kernelspec": {
   "display_name": "Python 3.9.0 64-bit ('3.9.0')",
   "language": "python",
   "name": "python3"
  },
  "language_info": {
   "name": "python",
   "version": "3.9.0"
  },
  "orig_nbformat": 4,
  "vscode": {
   "interpreter": {
    "hash": "198d770ee2a51adc163a9a36174d264d28801485a78739e3d6ca3ffcd9e1e547"
   }
  }
 },
 "nbformat": 4,
 "nbformat_minor": 2
}
